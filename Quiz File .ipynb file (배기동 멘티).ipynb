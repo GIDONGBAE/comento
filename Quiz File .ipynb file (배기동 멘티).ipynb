{
 "cells": [
  {
   "cell_type": "markdown",
   "metadata": {},
   "source": [
    "## Comento Quiz"
   ]
  },
  {
   "cell_type": "code",
   "execution_count": 22,
   "metadata": {},
   "outputs": [],
   "source": [
    "import numpy as np\n",
    "import pandas as pd\n"
   ]
  },
  {
   "cell_type": "markdown",
   "metadata": {},
   "source": [
    "### 0. 주어진 데이터를 불러온 후 상위 10개 행을 출력해 주세요.\n",
    "- train.csv 데이터 사용"
   ]
  },
  {
   "cell_type": "code",
   "execution_count": 23,
   "metadata": {},
   "outputs": [
    {
     "name": "stdout",
     "output_type": "stream",
     "text": [
      "   id             date     price  bedrooms  bathrooms  sqft_living  sqft_lot  \\\n",
      "0   0  20141013T000000  221900.0         3       1.00         1180      5650   \n",
      "1   1  20150225T000000  180000.0         2       1.00          770     10000   \n",
      "2   2  20150218T000000  510000.0         3       2.00         1680      8080   \n",
      "3   3  20140627T000000  257500.0         3       2.25         1715      6819   \n",
      "4   4  20150115T000000  291850.0         3       1.50         1060      9711   \n",
      "5   5  20150403T000000  662500.0         3       2.50         3560      9796   \n",
      "6   6  20140527T000000  468000.0         2       1.00         1160      6000   \n",
      "7   7  20140528T000000  310000.0         3       1.00         1430     19901   \n",
      "8   8  20141007T000000  400000.0         3       1.75         1370      9680   \n",
      "9   9  20150312T000000  530000.0         5       2.00         1810      4850   \n",
      "\n",
      "   floors  waterfront  view  ...  grade  sqft_above  sqft_basement  yr_built  \\\n",
      "0     1.0           0     0  ...      7        1180              0      1955   \n",
      "1     1.0           0     0  ...      6         770              0      1933   \n",
      "2     1.0           0     0  ...      8        1680              0      1987   \n",
      "3     2.0           0     0  ...      7        1715              0      1995   \n",
      "4     1.0           0     0  ...      7        1060              0      1963   \n",
      "5     1.0           0     0  ...      8        1860           1700      1965   \n",
      "6     1.0           0     0  ...      7         860            300      1942   \n",
      "7     1.5           0     0  ...      7        1430              0      1927   \n",
      "8     1.0           0     0  ...      7        1370              0      1977   \n",
      "9     1.5           0     0  ...      7        1810              0      1900   \n",
      "\n",
      "   yr_renovated  zipcode      lat     long  sqft_living15  sqft_lot15  \n",
      "0             0    98178  47.5112 -122.257           1340        5650  \n",
      "1             0    98028  47.7379 -122.233           2720        8062  \n",
      "2             0    98074  47.6168 -122.045           1800        7503  \n",
      "3             0    98003  47.3097 -122.327           2238        6819  \n",
      "4             0    98198  47.4095 -122.315           1650        9711  \n",
      "5             0    98007  47.6007 -122.145           2210        8925  \n",
      "6             0    98115  47.6900 -122.292           1330        6000  \n",
      "7             0    98028  47.7558 -122.229           1780       12697  \n",
      "8             0    98074  47.6127 -122.045           1370       10208  \n",
      "9             0    98107  47.6700 -122.394           1360        4850  \n",
      "\n",
      "[10 rows x 21 columns]\n"
     ]
    }
   ],
   "source": [
    "\n",
    "train = pd.read_csv(\"train.csv\")\n",
    "import pandas as pd\n",
    "\n",
    "\n",
    "print(train.head(10))\n"
   ]
  },
  {
   "cell_type": "markdown",
   "metadata": {},
   "source": [
    "### 1. 각 Column별로 null값이 있는지 확인해주세요."
   ]
  },
  {
   "cell_type": "code",
   "execution_count": 24,
   "metadata": {},
   "outputs": [
    {
     "name": "stdout",
     "output_type": "stream",
     "text": [
      "id               0\n",
      "date             0\n",
      "price            0\n",
      "bedrooms         0\n",
      "bathrooms        0\n",
      "sqft_living      0\n",
      "sqft_lot         0\n",
      "floors           0\n",
      "waterfront       0\n",
      "view             0\n",
      "condition        0\n",
      "grade            0\n",
      "sqft_above       0\n",
      "sqft_basement    0\n",
      "yr_built         0\n",
      "yr_renovated     0\n",
      "zipcode          0\n",
      "lat              0\n",
      "long             0\n",
      "sqft_living15    0\n",
      "sqft_lot15       0\n",
      "dtype: int64\n"
     ]
    }
   ],
   "source": [
    "import pandas as pd\n",
    "\n",
    "\n",
    "null_counts = train.isnull().sum()\n",
    "print(null_counts)\n"
   ]
  },
  {
   "cell_type": "markdown",
   "metadata": {},
   "source": [
    "### 2. grade Column에는 어떤 값이 있는지 확인해주세요."
   ]
  },
  {
   "cell_type": "code",
   "execution_count": 25,
   "metadata": {},
   "outputs": [
    {
     "name": "stdout",
     "output_type": "stream",
     "text": [
      "0        7\n",
      "1        6\n",
      "2        8\n",
      "3        7\n",
      "4        7\n",
      "        ..\n",
      "15030    9\n",
      "15031    9\n",
      "15032    8\n",
      "15033    8\n",
      "15034    7\n",
      "Name: grade, Length: 15035, dtype: int64\n"
     ]
    }
   ],
   "source": [
    "\n",
    "print(train[\"grade\"])"
   ]
  },
  {
   "cell_type": "markdown",
   "metadata": {},
   "source": [
    "### 3. zipcode에 대해서 문자열로 바꿔주세요."
   ]
  },
  {
   "cell_type": "code",
   "execution_count": 26,
   "metadata": {},
   "outputs": [
    {
     "name": "stdout",
     "output_type": "stream",
     "text": [
      "0        98178\n",
      "1        98028\n",
      "2        98074\n",
      "3        98003\n",
      "4        98198\n",
      "         ...  \n",
      "15030    98056\n",
      "15031    98136\n",
      "15032    98103\n",
      "15033    98146\n",
      "15034    98144\n",
      "Name: zipcode, Length: 15035, dtype: object\n"
     ]
    }
   ],
   "source": [
    "import pandas as pd\n",
    "\n",
    "\n",
    "\n",
    "train['zipcode'] = train['zipcode'].astype(str)\n",
    "\n",
    "\n",
    "print(train['zipcode'])\n"
   ]
  },
  {
   "cell_type": "markdown",
   "metadata": {},
   "source": [
    "### 4. loc를 활용하여 date, price, grade만 출력해주세요."
   ]
  },
  {
   "cell_type": "code",
   "execution_count": 27,
   "metadata": {},
   "outputs": [
    {
     "name": "stdout",
     "output_type": "stream",
     "text": [
      "                  date      price  grade\n",
      "0      20141013T000000   221900.0      7\n",
      "1      20150225T000000   180000.0      6\n",
      "2      20150218T000000   510000.0      8\n",
      "3      20140627T000000   257500.0      7\n",
      "4      20150115T000000   291850.0      7\n",
      "...                ...        ...    ...\n",
      "15030  20141014T000000   610685.0      9\n",
      "15031  20150326T000000  1007500.0      9\n",
      "15032  20140521T000000   360000.0      8\n",
      "15033  20150223T000000   400000.0      8\n",
      "15034  20141015T000000   325000.0      7\n",
      "\n",
      "[15035 rows x 3 columns]\n"
     ]
    }
   ],
   "source": [
    "import pandas as pd\n",
    "\n",
    "\n",
    "selected_columns = train.loc[:, ['date', 'price', 'grade']]\n",
    "\n",
    "\n",
    "print(selected_columns)\n"
   ]
  },
  {
   "cell_type": "markdown",
   "metadata": {},
   "source": [
    "### 5. grade가 13인 행들만 보여주세요."
   ]
  },
  {
   "cell_type": "code",
   "execution_count": 28,
   "metadata": {},
   "outputs": [
    {
     "name": "stdout",
     "output_type": "stream",
     "text": [
      "          id             date      price  bedrooms  bathrooms  sqft_living  \\\n",
      "3134    3134  20140804T000000  5570000.0         5       5.75         9200   \n",
      "3867    3867  20141010T000000  1780000.0         4       3.25         4890   \n",
      "4266    4266  20141120T000000  2385000.0         4       4.00         6330   \n",
      "4957    4957  20140701T000000  3800000.0         5       5.50         7050   \n",
      "5108    5108  20141013T000000  7700000.0         6       8.00        12050   \n",
      "5560    5560  20140923T000000  3200000.0         6       5.00         7100   \n",
      "6469    6469  20140919T000000  6885000.0         6       7.75         9890   \n",
      "7246    7246  20141212T000000  2983000.0         5       5.50         7400   \n",
      "10152  10152  20140611T000000  2888000.0         5       6.25         8670   \n",
      "\n",
      "       sqft_lot  floors  waterfront  view  ...  grade  sqft_above  \\\n",
      "3134      35069     2.0           0     0  ...     13        6200   \n",
      "3867      13402     2.0           0     0  ...     13        4890   \n",
      "4266      13296     2.0           0     2  ...     13        4900   \n",
      "4957      42840     1.0           0     2  ...     13        4320   \n",
      "5108      27600     2.5           0     3  ...     13        8570   \n",
      "5560      18200     2.5           0     0  ...     13        5240   \n",
      "6469      31374     2.0           0     4  ...     13        8860   \n",
      "7246      18898     2.0           0     3  ...     13        6290   \n",
      "10152     64033     2.0           0     4  ...     13        6120   \n",
      "\n",
      "       sqft_basement  yr_built  yr_renovated  zipcode      lat     long  \\\n",
      "3134            3000      2001             0    98039  47.6289 -122.233   \n",
      "3867               0      2004             0    98059  47.5303 -122.131   \n",
      "4266            1430      2000             0    98033  47.6488 -122.201   \n",
      "4957            2730      1978             0    98004  47.6229 -122.220   \n",
      "5108            3480      1910          1987    98102  47.6298 -122.323   \n",
      "5560            1860      1933          2002    98199  47.6427 -122.408   \n",
      "6469            1030      2001             0    98039  47.6305 -122.240   \n",
      "7246            1110      2001             0    98006  47.5431 -122.112   \n",
      "10152           2550      1965          2003    98177  47.7295 -122.372   \n",
      "\n",
      "       sqft_living15  sqft_lot15  \n",
      "3134            3560       24345  \n",
      "3867            5790       13539  \n",
      "4266            2200        9196  \n",
      "4957            5070       20570  \n",
      "5108            3940        8800  \n",
      "5560            3130        6477  \n",
      "6469            4540       42730  \n",
      "7246            6110       26442  \n",
      "10152           4140       81021  \n",
      "\n",
      "[9 rows x 21 columns]\n"
     ]
    }
   ],
   "source": [
    "import pandas as pd\n",
    "\n",
    "\n",
    "filtered_train = train.loc[train['grade'] == 13]\n",
    "\n",
    "\n",
    "print(filtered_train)\n"
   ]
  },
  {
   "cell_type": "markdown",
   "metadata": {},
   "source": [
    "### 6. grade별로 평균 가격을 보여주세요."
   ]
  },
  {
   "cell_type": "code",
   "execution_count": 29,
   "metadata": {},
   "outputs": [
    {
     "name": "stdout",
     "output_type": "stream",
     "text": [
      "grade\n",
      "1     1.420000e+05\n",
      "3     2.710000e+05\n",
      "4     2.097413e+05\n",
      "5     2.510696e+05\n",
      "6     3.001554e+05\n",
      "7     4.015281e+05\n",
      "8     5.423156e+05\n",
      "9     7.734781e+05\n",
      "10    1.062482e+06\n",
      "11    1.522459e+06\n",
      "12    2.220540e+06\n",
      "13    4.132333e+06\n",
      "Name: price, dtype: float64\n"
     ]
    }
   ],
   "source": [
    "import pandas as pd\n",
    "\n",
    "\n",
    "average_price_by_grade = train.groupby('grade')['price'].mean()\n",
    "\n",
    "\n",
    "print(average_price_by_grade)\n"
   ]
  },
  {
   "cell_type": "markdown",
   "metadata": {},
   "source": [
    "### 7. 6번에서 만든 데이터를 원본 데이터와 inner로 merge해주세요."
   ]
  },
  {
   "cell_type": "code",
   "execution_count": 32,
   "metadata": {},
   "outputs": [
    {
     "name": "stdout",
     "output_type": "stream",
     "text": [
      "          id             date      price  bedrooms  bathrooms  sqft_living  \\\n",
      "0          0  20141013T000000   221900.0         3       1.00         1180   \n",
      "1          3  20140627T000000   257500.0         3       2.25         1715   \n",
      "2          4  20150115T000000   291850.0         3       1.50         1060   \n",
      "3          6  20140527T000000   468000.0         2       1.00         1160   \n",
      "4          7  20140528T000000   310000.0         3       1.00         1430   \n",
      "...      ...              ...        ...       ...        ...          ...   \n",
      "15030   5560  20140923T000000  3200000.0         6       5.00         7100   \n",
      "15031   6469  20140919T000000  6885000.0         6       7.75         9890   \n",
      "15032   7246  20141212T000000  2983000.0         5       5.50         7400   \n",
      "15033  10152  20140611T000000  2888000.0         5       6.25         8670   \n",
      "15034  13522  20140926T000000   142000.0         0       0.00          290   \n",
      "\n",
      "       sqft_lot  floors  waterfront  view  ...  sqft_above  sqft_basement  \\\n",
      "0          5650     1.0           0     0  ...        1180              0   \n",
      "1          6819     2.0           0     0  ...        1715              0   \n",
      "2          9711     1.0           0     0  ...        1060              0   \n",
      "3          6000     1.0           0     0  ...         860            300   \n",
      "4         19901     1.5           0     0  ...        1430              0   \n",
      "...         ...     ...         ...   ...  ...         ...            ...   \n",
      "15030     18200     2.5           0     0  ...        5240           1860   \n",
      "15031     31374     2.0           0     4  ...        8860           1030   \n",
      "15032     18898     2.0           0     3  ...        6290           1110   \n",
      "15033     64033     2.0           0     4  ...        6120           2550   \n",
      "15034     20875     1.0           0     0  ...         290              0   \n",
      "\n",
      "       yr_built  yr_renovated  zipcode      lat     long  sqft_living15  \\\n",
      "0          1955             0    98178  47.5112 -122.257           1340   \n",
      "1          1995             0    98003  47.3097 -122.327           2238   \n",
      "2          1963             0    98198  47.4095 -122.315           1650   \n",
      "3          1942             0    98115  47.6900 -122.292           1330   \n",
      "4          1927             0    98028  47.7558 -122.229           1780   \n",
      "...         ...           ...      ...      ...      ...            ...   \n",
      "15030      1933          2002    98199  47.6427 -122.408           3130   \n",
      "15031      2001             0    98039  47.6305 -122.240           4540   \n",
      "15032      2001             0    98006  47.5431 -122.112           6110   \n",
      "15033      1965          2003    98177  47.7295 -122.372           4140   \n",
      "15034      1963             0    98024  47.5308 -121.888           1620   \n",
      "\n",
      "       sqft_lot15  average_price  \n",
      "0            5650   4.015281e+05  \n",
      "1            6819   4.015281e+05  \n",
      "2            9711   4.015281e+05  \n",
      "3            6000   4.015281e+05  \n",
      "4           12697   4.015281e+05  \n",
      "...           ...            ...  \n",
      "15030        6477   4.132333e+06  \n",
      "15031       42730   4.132333e+06  \n",
      "15032       26442   4.132333e+06  \n",
      "15033       81021   4.132333e+06  \n",
      "15034       22850   1.420000e+05  \n",
      "\n",
      "[15035 rows x 22 columns]\n"
     ]
    }
   ],
   "source": [
    "import pandas as pd\n",
    "\n",
    "average_price_by_grade = train.groupby('grade')['price'].mean().reset_index()\n",
    "average_price_by_grade.rename(columns={'price': 'average_price'}, inplace=True)\n",
    "\n",
    "merged_train = pd.merge(train, average_price_by_grade, on='grade', how='inner')\n",
    "\n",
    "print(merged_train)\n"
   ]
  },
  {
   "cell_type": "markdown",
   "metadata": {},
   "source": [
    "### 8. Date Column을 이용해 년, 월, 일에 해당하는 3개의 새로운 Column을 만들어주세요."
   ]
  },
  {
   "cell_type": "code",
   "execution_count": 33,
   "metadata": {},
   "outputs": [
    {
     "name": "stdout",
     "output_type": "stream",
     "text": [
      "   year month day       date\n",
      "0  2014    10  13 2014-10-13\n",
      "1  2015    02  25 2015-02-25\n",
      "2  2015    02  18 2015-02-18\n",
      "3  2014    06  27 2014-06-27\n",
      "4  2015    01  15 2015-01-15\n"
     ]
    }
   ],
   "source": [
    "train_8 = pd.DataFrame({\n",
    "    'year': ['2014', '2015', '2015', '2014', '2015'],\n",
    "    'month': ['10', '02', '02', '06', '01'],\n",
    "    'day' : ['13', '25', '18', '27', '15']\n",
    "})\n",
    "import pandas as pd\n",
    "\n",
    "train_8 = pd.DataFrame({\n",
    "    'year': ['2014', '2015', '2015', '2014', '2015'],\n",
    "    'month': ['10', '02', '02', '06', '01'],\n",
    "    'day': ['13', '25', '18', '27', '15']\n",
    "})\n",
    "\n",
    "\n",
    "train_8['date'] = pd.to_datetime(train_8['year'] + '-' + train_8['month'] + '-' + train_8['day'])\n",
    "\n",
    "\n",
    "print(train_8)\n"
   ]
  },
  {
   "cell_type": "markdown",
   "metadata": {},
   "source": [
    "### 9. 이후 Price를 예측하는 모델을 제작하기 위해 추가적인 변수를 만드려고 합니다. Price의 데이터 분포를 확인하고 1개 이상의 EDA를 통해 의견을 제시해주세요."
   ]
  },
  {
   "cell_type": "code",
   "execution_count": 39,
   "metadata": {},
   "outputs": [
    {
     "data": {
      "image/png": "[encoded data removed]",
      "text/plain": [
       "<Figure size 1200x500 with 2 Axes>"
      ]
     },
     "metadata": {},
     "output_type": "display_data"
    }
   ],
   "source": [
    "import matplotlib.pyplot as plt\n",
    "import seaborn as sns\n",
    "import pandas as pd\n",
    "\n",
    "%matplotlib inline\n",
    "\n",
    "plt.rc('font', family='malgun gothic')\n",
    "plt.rc('axes', unicode_minus=False)\n",
    "\n",
    "import matplotlib.pyplot as plt\n",
    "import seaborn as sns\n",
    "import pandas as pd\n",
    "\n",
    "# Matplotlib 설정\n",
    "plt.rc('font', family='Malgun Gothic')  # 한글 폰트 설정\n",
    "plt.rc('axes', unicode_minus=False)  # 유니코드 마이너스 처리\n",
    "\n",
    "# 예제 데이터\n",
    "train = pd.DataFrame({\n",
    "    'price': [150, 200, 250, 300, 100, 450, 500, 600, 120, 180, 220, 270, 310, 400, 1000]\n",
    "})\n",
    "\n",
    "# 가격 분포 시각화\n",
    "plt.figure(figsize=(12, 5))\n",
    "\n",
    "# 히스토그램\n",
    "plt.subplot(1, 2, 1)\n",
    "sns.histplot(train['price'], kde=True, bins=10, color='blue')\n",
    "plt.title('가격 분포 (히스토그램)')\n",
    "plt.xlabel('가격')\n",
    "plt.ylabel('빈도')\n",
    "\n",
    "# 상자 그림\n",
    "plt.subplot(1, 2, 2)\n",
    "sns.boxplot(x=train['price'], color='orange')\n",
    "plt.title('가격 분포 (상자 그림)')\n",
    "plt.xlabel('가격')\n",
    "\n",
    "plt.tight_layout()\n",
    "plt.show()\n"
   ]
  },
  {
   "cell_type": "code",
   "execution_count": 40,
   "metadata": {},
   "outputs": [
    {
     "data": {
      "image/png": "[encoded data removed]",
      "text/plain": [
       "<Figure size 1200x500 with 1 Axes>"
      ]
     },
     "metadata": {},
     "output_type": "display_data"
    },
    {
     "name": "stdout",
     "output_type": "stream",
     "text": [
      "    price  log_price price_category\n",
      "0     150   5.017280             저가\n",
      "1     200   5.303305             중가\n",
      "2     250   5.525453             중가\n",
      "3     300   5.707110             중가\n",
      "4     100   4.615121             저가\n",
      "5     450   6.111467             고가\n",
      "6     500   6.216606             고가\n",
      "7     600   6.398595             고가\n",
      "8     120   4.795791             저가\n",
      "9     180   5.198497             저가\n",
      "10    220   5.398163             중가\n",
      "11    270   5.602119             중가\n",
      "12    310   5.739793             중가\n",
      "13    400   5.993961             고가\n",
      "14   1000   6.908755             고가\n"
     ]
    }
   ],
   "source": [
    "import numpy as np\n",
    "\n",
    "# 1. 로그 변환된 가격 변수 추가\n",
    "train['log_price'] = np.log1p(train['price'])  # log(1 + price)\n",
    "\n",
    "# 2. 가격 범주화 변수 추가\n",
    "def categorize_price(price):\n",
    "    if price < 200:\n",
    "        return '저가'\n",
    "    elif price < 400:\n",
    "        return '중가'\n",
    "    else:\n",
    "        return '고가'\n",
    "\n",
    "train['price_category'] = train['price'].apply(categorize_price)\n",
    "\n",
    "# 추가 변수 시각화 (로그 변환 가격 히스토그램)\n",
    "plt.figure(figsize=(12, 5))\n",
    "\n",
    "# 로그 변환된 가격 히스토그램\n",
    "sns.histplot(train['log_price'], kde=True, bins=10, color='green')\n",
    "plt.title('로그 변환된 가격 분포')\n",
    "plt.xlabel('로그 변환된 가격')\n",
    "plt.ylabel('빈도')\n",
    "plt.show()\n",
    "\n",
    "# 데이터프레임 출력\n",
    "print(train)\n"
   ]
  },
  {
   "cell_type": "markdown",
   "metadata": {},
   "source": [
    "#### 1) 데이터 분석하기"
   ]
  },
  {
   "cell_type": "code",
   "execution_count": 46,
   "metadata": {},
   "outputs": [],
   "source": [
    "# 로그 변환:\n",
    "# price가 오른쪽으로 치우쳐 있기 때문에 로그 변환을 통해 정규화된 분포로 변환하는 것이 유효합니다. 이는 선형 회귀와 같은 모델에서 특히 유용하며, 이상치로 인한 모델의 영향을 줄일 수 있습니다.\n",
    "\n",
    "# 가격 범주화:\n",
    "# 가격을 범주형 변수로 변환해 특정 구간별로 다른 패턴이 나타나는지 확인할 수 있습니다. 예를 들어, \"고가 제품\"일수록 특정 요인이 가격에 더 큰 영향을 미칠 가능성을 탐구할 수 있습니다.\n",
    "\n"
   ]
  }
 ],
 "metadata": {
  "kernelspec": {
   "display_name": "base",
   "language": "python",
   "name": "python3"
  },
  "language_info": {
   "codemirror_mode": {
    "name": "ipython",
    "version": 3
   },
   "file_extension": ".py",
   "mimetype": "text/x-python",
   "name": "python",
   "nbconvert_exporter": "python",
   "pygments_lexer": "ipython3",
   "version": "3.10.9"
  },
  "toc": {
   "base_numbering": 1,
   "nav_menu": {},
   "number_sections": false,
   "sideBar": true,
   "skip_h1_title": false,
   "title_cell": "Table of Contents",
   "title_sidebar": "Contents",
   "toc_cell": false,
   "toc_position": {
    "height": "calc(100% - 180px)",
    "left": "10px",
    "top": "150px",
    "width": "307.20001220703125px"
   },
   "toc_section_display": true,
   "toc_window_display": true
  }
 },
 "nbformat": 4,
 "nbformat_minor": 2
}
